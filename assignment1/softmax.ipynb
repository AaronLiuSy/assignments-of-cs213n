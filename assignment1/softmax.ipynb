{
 "cells": [
  {
   "cell_type": "markdown",
   "metadata": {
    "tags": [
     "pdf-title"
    ]
   },
   "source": [
    "# Softmax exercise\n",
    "\n",
    "*Complete and hand in this completed worksheet (including its outputs and any supporting code outside of the worksheet) with your assignment submission. For more details see the [assignments page](http://vision.stanford.edu/teaching/cs231n/assignments.html) on the course website.*\n",
    "\n",
    "This exercise is analogous to the SVM exercise. You will:\n",
    "\n",
    "- implement a fully-vectorized **loss function** for the Softmax classifier\n",
    "- implement the fully-vectorized expression for its **analytic gradient**\n",
    "- **check your implementation** with numerical gradient\n",
    "- use a validation set to **tune the learning rate and regularization** strength\n",
    "- **optimize** the loss function with **SGD**\n",
    "- **visualize** the final learned weights\n"
   ]
  },
  {
   "cell_type": "code",
   "execution_count": 1,
   "metadata": {
    "tags": [
     "pdf-ignore"
    ]
   },
   "outputs": [],
   "source": [
    "import random\n",
    "import numpy as np\n",
    "from cs231n.data_utils import load_CIFAR10\n",
    "import matplotlib.pyplot as plt\n",
    "\n",
    "%matplotlib inline\n",
    "plt.rcParams['figure.figsize'] = (10.0, 8.0) # set default size of plots\n",
    "plt.rcParams['image.interpolation'] = 'nearest'\n",
    "plt.rcParams['image.cmap'] = 'gray'\n",
    "\n",
    "# for auto-reloading extenrnal modules\n",
    "# see http://stackoverflow.com/questions/1907993/autoreload-of-modules-in-ipython\n",
    "%load_ext autoreload\n",
    "%autoreload 2"
   ]
  },
  {
   "cell_type": "code",
   "execution_count": 2,
   "metadata": {
    "tags": [
     "pdf-ignore"
    ]
   },
   "outputs": [
    {
     "name": "stdout",
     "output_type": "stream",
     "text": [
      "Train data shape:  (49000, 3073)\n",
      "Train labels shape:  (49000,)\n",
      "Validation data shape:  (1000, 3073)\n",
      "Validation labels shape:  (1000,)\n",
      "Test data shape:  (1000, 3073)\n",
      "Test labels shape:  (1000,)\n",
      "dev data shape:  (500, 3073)\n",
      "dev labels shape:  (500,)\n"
     ]
    }
   ],
   "source": [
    "def get_CIFAR10_data(num_training=49000, num_validation=1000, num_test=1000, num_dev=500):\n",
    "    \"\"\"\n",
    "    Load the CIFAR-10 dataset from disk and perform preprocessing to prepare\n",
    "    it for the linear classifier. These are the same steps as we used for the\n",
    "    SVM, but condensed to a single function.  \n",
    "    \"\"\"\n",
    "    # Load the raw CIFAR-10 data\n",
    "    cifar10_dir = 'cs231n/datasets/cifar-10-batches-py'\n",
    "    \n",
    "    # Cleaning up variables to prevent loading data multiple times (which may cause memory issue)\n",
    "    try:\n",
    "       del X_train, y_train\n",
    "       del X_test, y_test\n",
    "       print('Clear previously loaded data.')\n",
    "    except:\n",
    "       pass\n",
    "\n",
    "    X_train, y_train, X_test, y_test = load_CIFAR10(cifar10_dir)\n",
    "    \n",
    "    # subsample the data\n",
    "    mask = list(range(num_training, num_training + num_validation))\n",
    "    X_val = X_train[mask] # (1000, 32, 32, 3)\n",
    "    y_val = y_train[mask]\n",
    "    mask = list(range(num_training))\n",
    "    X_train = X_train[mask] # (49000, 32, 32, 3)\n",
    "    y_train = y_train[mask]\n",
    "    mask = list(range(num_test))\n",
    "    X_test = X_test[mask] # (1000, 32, 32, 3)\n",
    "    y_test = y_test[mask]\n",
    "    mask = np.random.choice(num_training, num_dev, replace=False)\n",
    "    X_dev = X_train[mask] # (500, 32, 32, 3)\n",
    "    y_dev = y_train[mask]\n",
    "    \n",
    "    \n",
    "    # Preprocessing: reshape the image data into rows\n",
    "    # 保持行维度\n",
    "    X_train = np.reshape(X_train, (X_train.shape[0], -1)) # (49000, 3072)\n",
    "    X_val = np.reshape(X_val, (X_val.shape[0], -1))  # (1000, 3072)\n",
    "    X_test = np.reshape(X_test, (X_test.shape[0], -1))  # (1000, 3072)\n",
    "    X_dev = np.reshape(X_dev, (X_dev.shape[0], -1))  # (500, 3072)\n",
    "   \n",
    "    \n",
    "    # Normalize the data: subtract the mean image 按照列求平均\n",
    "    # 仅对训练集进去预处理\n",
    "    mean_image = np.mean(X_train, axis = 0) #(1, 3072)\n",
    "    X_train -= mean_image\n",
    "    X_val -= mean_image\n",
    "    X_test -= mean_image\n",
    "    X_dev -= mean_image\n",
    "    \n",
    "    # add bias dimension and transform into columns\n",
    "    X_train = np.hstack([X_train, np.ones((X_train.shape[0], 1))]) # (49000, 3073)\n",
    "    X_val = np.hstack([X_val, np.ones((X_val.shape[0], 1))])\n",
    "    X_test = np.hstack([X_test, np.ones((X_test.shape[0], 1))])\n",
    "    X_dev = np.hstack([X_dev, np.ones((X_dev.shape[0], 1))])\n",
    "    \n",
    "    return X_train, y_train, X_val, y_val, X_test, y_test, X_dev, y_dev\n",
    "\n",
    "\n",
    "# Invoke the above function to get our data.\n",
    "X_train, y_train, X_val, y_val, X_test, y_test, X_dev, y_dev = get_CIFAR10_data()\n",
    "print('Train data shape: ', X_train.shape)\n",
    "print('Train labels shape: ', y_train.shape)\n",
    "print('Validation data shape: ', X_val.shape)\n",
    "print('Validation labels shape: ', y_val.shape)\n",
    "print('Test data shape: ', X_test.shape)\n",
    "print('Test labels shape: ', y_test.shape)\n",
    "print('dev data shape: ', X_dev.shape)\n",
    "print('dev labels shape: ', y_dev.shape)"
   ]
  },
  {
   "cell_type": "markdown",
   "metadata": {},
   "source": [
    "## Softmax Classifier\n",
    "\n",
    "Your code for this section will all be written inside **cs231n/classifiers/softmax.py**. \n"
   ]
  },
  {
   "cell_type": "code",
   "execution_count": 3,
   "metadata": {},
   "outputs": [
    {
     "name": "stdout",
     "output_type": "stream",
     "text": [
      "loss: 2.373549\n",
      "sanity check: 2.302585\n"
     ]
    }
   ],
   "source": [
    "# First implement the naive softmax loss function with nested loops.\n",
    "# Open the file cs231n/classifiers/softmax.py and implement the\n",
    "# softmax_loss_naive function.\n",
    "\n",
    "from cs231n.classifiers.softmax import softmax_loss_naive\n",
    "import time\n",
    "\n",
    "# Generate a random softmax weight matrix and use it to compute the loss.\n",
    "W = np.random.randn(3073, 10) * 0.0001\n",
    "loss, grad = softmax_loss_naive(W, X_dev, y_dev, 0.0)\n",
    "\n",
    "# As a rough sanity check, our loss should be something close to -log(0.1).\n",
    "print('loss: %f' % loss)\n",
    "print('sanity check: %f' % (-np.log(0.1)))"
   ]
  },
  {
   "cell_type": "markdown",
   "metadata": {
    "tags": [
     "pdf-inline"
    ]
   },
   "source": [
    "**Inline Question 1**\n",
    "\n",
    "Why do we expect our loss to be close to -log(0.1)? Explain briefly.**\n",
    "\n",
    "$\\color{blue}{\\textit Your Answer:}$ *因为W是随机初始化的，所以每个类计算的得分都是相同的，经过softmax之后的概率都是一样的，而这是一个10分类的问题，所以每个类的概率都是0.1，经过交叉熵得到的loss就是-log(0.1)* \n",
    "\n"
   ]
  },
  {
   "cell_type": "code",
   "execution_count": 4,
   "metadata": {},
   "outputs": [
    {
     "name": "stdout",
     "output_type": "stream",
     "text": [
      "numerical: 0.084550 analytic: 0.084550, relative error: 5.568069e-07\n",
      "numerical: 3.710811 analytic: 3.710811, relative error: 3.752839e-09\n",
      "numerical: 1.519806 analytic: 1.519806, relative error: 9.907510e-09\n",
      "numerical: -2.098093 analytic: -2.098093, relative error: 6.059193e-09\n",
      "numerical: -0.114553 analytic: -0.114553, relative error: 6.233212e-07\n",
      "numerical: -1.497979 analytic: -1.497979, relative error: 2.733018e-08\n",
      "numerical: -0.206779 analytic: -0.206779, relative error: 1.452123e-07\n",
      "numerical: 1.464307 analytic: 1.464307, relative error: 6.066991e-08\n",
      "numerical: -0.327291 analytic: -0.327291, relative error: 1.315463e-09\n",
      "numerical: -1.824037 analytic: -1.824037, relative error: 6.308554e-09\n",
      "numerical: -1.154099 analytic: -1.154099, relative error: 1.127793e-08\n",
      "numerical: -0.628424 analytic: -0.628424, relative error: 7.536706e-09\n",
      "numerical: 0.679314 analytic: 0.679314, relative error: 1.342502e-07\n",
      "numerical: 0.210720 analytic: 0.210720, relative error: 1.267216e-07\n",
      "numerical: -0.725139 analytic: -0.725138, relative error: 5.853346e-08\n",
      "numerical: 1.562064 analytic: 1.562064, relative error: 1.454376e-08\n",
      "numerical: 2.593747 analytic: 2.593747, relative error: 2.670210e-08\n",
      "numerical: -0.640969 analytic: -0.640969, relative error: 9.266044e-08\n",
      "numerical: -0.203423 analytic: -0.203424, relative error: 2.799230e-07\n",
      "numerical: -0.329293 analytic: -0.329293, relative error: 1.009639e-08\n"
     ]
    }
   ],
   "source": [
    "# Complete the implementation of softmax_loss_naive and implement a (naive)\n",
    "# version of the gradient that uses nested loops.\n",
    "loss, grad = softmax_loss_naive(W, X_dev, y_dev, 0.0)\n",
    "\n",
    "# As we did for the SVM, use numeric gradient checking as a debugging tool.\n",
    "# The numeric gradient should be close to the analytic gradient.\n",
    "from cs231n.gradient_check import grad_check_sparse\n",
    "f = lambda w: softmax_loss_naive(w, X_dev, y_dev, 0.0)[0]\n",
    "grad_numerical = grad_check_sparse(f, W, grad, 10)\n",
    "\n",
    "# similar to SVM case, do another gradient check with regularization\n",
    "loss, grad = softmax_loss_naive(W, X_dev, y_dev, 5e1)\n",
    "f = lambda w: softmax_loss_naive(w, X_dev, y_dev, 5e1)[0]\n",
    "grad_numerical = grad_check_sparse(f, W, grad, 10)"
   ]
  },
  {
   "cell_type": "code",
   "execution_count": 5,
   "metadata": {},
   "outputs": [
    {
     "name": "stdout",
     "output_type": "stream",
     "text": [
      "naive loss: 2.373549e+00 computed in 0.121058s\n",
      "vectorized loss: 2.373549e+00 computed in 0.004208s\n",
      "Loss difference: 0.000000\n",
      "Gradient difference: 0.000000\n"
     ]
    }
   ],
   "source": [
    "# Now that we have a naive implementation of the softmax loss function and its gradient,\n",
    "# implement a vectorized version in softmax_loss_vectorized.\n",
    "# The two versions should compute the same results, but the vectorized version should be\n",
    "# much faster.\n",
    "tic = time.time()\n",
    "loss_naive, grad_naive = softmax_loss_naive(W, X_dev, y_dev, 0.000005)\n",
    "toc = time.time()\n",
    "print('naive loss: %e computed in %fs' % (loss_naive, toc - tic))\n",
    "\n",
    "from cs231n.classifiers.softmax import softmax_loss_vectorized\n",
    "tic = time.time()\n",
    "loss_vectorized, grad_vectorized = softmax_loss_vectorized(W, X_dev, y_dev, 0.000005)\n",
    "toc = time.time()\n",
    "print('vectorized loss: %e computed in %fs' % (loss_vectorized, toc - tic))\n",
    "\n",
    "# As we did for the SVM, we use the Frobenius norm to compare the two versions\n",
    "# of the gradient.\n",
    "grad_difference = np.linalg.norm(grad_naive - grad_vectorized, ord='fro')\n",
    "print('Loss difference: %f' % np.abs(loss_naive - loss_vectorized))\n",
    "print('Gradient difference: %f' % grad_difference)"
   ]
  },
  {
   "cell_type": "code",
   "execution_count": 9,
   "metadata": {
    "tags": [
     "code"
    ]
   },
   "outputs": [
    {
     "name": "stdout",
     "output_type": "stream",
     "text": [
      "iteration 0 / 1500: loss 766.622498\n",
      "iteration 100 / 1500: loss 281.331389\n",
      "iteration 200 / 1500: loss 104.307341\n",
      "iteration 300 / 1500: loss 39.443380\n",
      "iteration 400 / 1500: loss 15.702608\n",
      "iteration 500 / 1500: loss 7.157673\n",
      "iteration 600 / 1500: loss 3.928012\n",
      "iteration 700 / 1500: loss 2.744241\n",
      "iteration 800 / 1500: loss 2.335145\n",
      "iteration 900 / 1500: loss 2.118619\n",
      "iteration 1000 / 1500: loss 2.164323\n",
      "iteration 1100 / 1500: loss 2.064841\n",
      "iteration 1200 / 1500: loss 2.113309\n",
      "iteration 1300 / 1500: loss 2.100669\n",
      "iteration 1400 / 1500: loss 2.062525\n",
      "(49000,)\n",
      "(1000,)\n",
      "iteration 0 / 1500: loss 1522.839616\n",
      "iteration 100 / 1500: loss 205.328997\n",
      "iteration 200 / 1500: loss 29.229727\n",
      "iteration 300 / 1500: loss 5.760257\n",
      "iteration 400 / 1500: loss 2.646080\n",
      "iteration 500 / 1500: loss 2.228397\n",
      "iteration 600 / 1500: loss 2.109882\n",
      "iteration 700 / 1500: loss 2.155225\n",
      "iteration 800 / 1500: loss 2.158418\n",
      "iteration 900 / 1500: loss 2.169133\n",
      "iteration 1000 / 1500: loss 2.151656\n",
      "iteration 1100 / 1500: loss 2.179260\n",
      "iteration 1200 / 1500: loss 2.166317\n",
      "iteration 1300 / 1500: loss 2.164381\n",
      "iteration 1400 / 1500: loss 2.191701\n",
      "(49000,)\n",
      "(1000,)\n",
      "iteration 0 / 1500: loss 778.413619\n",
      "iteration 100 / 1500: loss 6.953362\n",
      "iteration 200 / 1500: loss 2.154842\n",
      "iteration 300 / 1500: loss 2.139703\n",
      "iteration 400 / 1500: loss 2.038934\n",
      "iteration 500 / 1500: loss 2.126018\n",
      "iteration 600 / 1500: loss 2.081795\n",
      "iteration 700 / 1500: loss 2.064967\n",
      "iteration 800 / 1500: loss 2.117366\n",
      "iteration 900 / 1500: loss 2.071622\n",
      "iteration 1000 / 1500: loss 2.111158\n",
      "iteration 1100 / 1500: loss 2.156742\n",
      "iteration 1200 / 1500: loss 2.051358\n",
      "iteration 1300 / 1500: loss 2.125973\n",
      "iteration 1400 / 1500: loss 2.133066\n",
      "(49000,)\n",
      "(1000,)\n",
      "iteration 0 / 1500: loss 1548.989210\n",
      "iteration 100 / 1500: loss 2.246429\n",
      "iteration 200 / 1500: loss 2.173525\n",
      "iteration 300 / 1500: loss 2.135801\n",
      "iteration 400 / 1500: loss 2.117975\n",
      "iteration 500 / 1500: loss 2.084261\n",
      "iteration 600 / 1500: loss 2.181516\n",
      "iteration 700 / 1500: loss 2.148877\n",
      "iteration 800 / 1500: loss 2.137280\n",
      "iteration 900 / 1500: loss 2.175245\n",
      "iteration 1000 / 1500: loss 2.144867\n",
      "iteration 1100 / 1500: loss 2.100789\n",
      "iteration 1200 / 1500: loss 2.220914\n",
      "iteration 1300 / 1500: loss 2.136012\n",
      "iteration 1400 / 1500: loss 2.164081\n",
      "(49000,)\n",
      "(1000,)\n",
      "lr 1.000000e-07 reg 2.500000e+04 train accuracy: 0.327939 val accuracy: 0.344000\n",
      "lr 1.000000e-07 reg 5.000000e+04 train accuracy: 0.302918 val accuracy: 0.316000\n",
      "lr 5.000000e-07 reg 2.500000e+04 train accuracy: 0.328939 val accuracy: 0.335000\n",
      "lr 5.000000e-07 reg 5.000000e+04 train accuracy: 0.293347 val accuracy: 0.315000\n",
      "best validation accuracy achieved during cross-validation: 0.344000\n"
     ]
    }
   ],
   "source": [
    "# Use the validation set to tune hyperparameters (regularization strength and\n",
    "# learning rate). You should experiment with different ranges for the learning\n",
    "# rates and regularization strengths; if you are careful you should be able to\n",
    "# get a classification accuracy of over 0.35 on the validation set.\n",
    "from copy import deepcopy\n",
    "from cs231n.classifiers import Softmax\n",
    "results = {}\n",
    "best_val = -1\n",
    "best_softmax = None\n",
    "learning_rates = [1e-7, 5e-7]\n",
    "regularization_strengths = [2.5e4, 5e4]\n",
    "\n",
    "################################################################################\n",
    "# TODO:                                                                        #\n",
    "# Use the validation set to set the learning rate and regularization strength. #\n",
    "# This should be identical to the validation that you did for the SVM; save    #\n",
    "# the best trained softmax classifer in best_softmax.                          #\n",
    "################################################################################\n",
    "# *****START OF YOUR CODE (DO NOT DELETE/MODIFY THIS LINE)*****\n",
    "\n",
    "for lr in learning_rates:\n",
    "    for reg in regularization_strengths:\n",
    "        softmax = Softmax()\n",
    "        softmax.train(X_train,y_train, lr, reg, 1500,128, verbose=True)\n",
    "        y_train_pred = softmax.predict(X_train)\n",
    "        train_acc = np.mean(y_train_pred == y_train)\n",
    "        y_val_pred = softmax.predict(X_val)\n",
    "        val_acc = np.mean(y_val_pred == y_val)\n",
    "        results[(lr, reg)] = [train_acc, val_acc]\n",
    "        \n",
    "        if val_acc > best_val:\n",
    "            best_val = val_acc\n",
    "            best_softmax = deepcopy(softmax)\n",
    "            \n",
    "        \n",
    "# *****END OF YOUR CODE (DO NOT DELETE/MODIFY THIS LINE)*****\n",
    "    \n",
    "# Print out results.\n",
    "for lr, reg in sorted(results):\n",
    "    train_accuracy, val_accuracy = results[(lr, reg)]\n",
    "    print('lr %e reg %e train accuracy: %f val accuracy: %f' % (\n",
    "                lr, reg, train_accuracy, val_accuracy))\n",
    "    \n",
    "print('best validation accuracy achieved during cross-validation: %f' % best_val)"
   ]
  },
  {
   "cell_type": "code",
   "execution_count": 10,
   "metadata": {},
   "outputs": [
    {
     "name": "stdout",
     "output_type": "stream",
     "text": [
      "softmax on raw pixels final test set accuracy: 0.341000\n"
     ]
    }
   ],
   "source": [
    "# evaluate on test set\n",
    "# Evaluate the best softmax on test set\n",
    "y_test_pred = best_softmax.predict(X_test)\n",
    "test_accuracy = np.mean(y_test == y_test_pred)\n",
    "print('softmax on raw pixels final test set accuracy: %f' % (test_accuracy, ))"
   ]
  },
  {
   "cell_type": "markdown",
   "metadata": {
    "tags": [
     "pdf-inline"
    ]
   },
   "source": [
    "**Inline Question 2** - *True or False*\n",
    "\n",
    "Suppose the overall training loss is defined as the sum of the per-datapoint loss over all training examples. It is possible to add a new datapoint to a training set that would leave the SVM loss unchanged, but this is not the case with the Softmax classifier loss.\n",
    "\n",
    "$\\color{blue}{\\textit Your Answer:}$ True\n",
    "\n",
    "\n",
    "$\\color{blue}{\\textit Your Explanation:}$ SVM的损失函数是loss = sum(max(0, Si-Sj+delta)),有可能增加的数据对于SVM来说比较好判断，所以这个数据点的损失为0。但是，对于交叉熵来说，没增加一个样本都会得到一个概率分布，然后计算交叉熵，这就意味着每个样本点的损失都会被计算进去，即使很小。\n",
    "\n"
   ]
  },
  {
   "cell_type": "code",
   "execution_count": 12,
   "metadata": {},
   "outputs": [
    {
     "data": {
      "image/png": "[encoded data removed]",
      "text/plain": [
       "<Figure size 432x288 with 10 Axes>"
      ]
     },
     "metadata": {
      "needs_background": "light"
     },
     "output_type": "display_data"
    }
   ],
   "source": [
    "# Visualize the learned weights for each class\n",
    "w = best_softmax.W[:-1,:] # strip out the bias\n",
    "w = w.reshape(32, 32, 3, 10)\n",
    "\n",
    "w_min, w_max = np.min(w), np.max(w)\n",
    "\n",
    "classes = ['plane', 'car', 'bird', 'cat', 'deer', 'dog', 'frog', 'horse', 'ship', 'truck']\n",
    "for i in range(10):\n",
    "    plt.subplot(2, 5, i + 1)\n",
    "    \n",
    "    # Rescale the weights to be between 0 and 255\n",
    "    wimg = 255.0 * (w[:, :, :, i].squeeze() - w_min) / (w_max - w_min)\n",
    "    plt.imshow(wimg.astype('uint8'))\n",
    "    plt.axis('off')\n",
    "    plt.title(classes[i])"
   ]
  },
  {
   "cell_type": "code",
   "execution_count": null,
   "metadata": {},
   "outputs": [],
   "source": []
  }
 ],
 "metadata": {
  "kernelspec": {
   "display_name": "Python 3",
   "language": "python",
   "name": "python3"
  },
  "language_info": {
   "codemirror_mode": {
    "name": "ipython",
    "version": 3
   },
   "file_extension": ".py",
   "mimetype": "text/x-python",
   "name": "python",
   "nbconvert_exporter": "python",
   "pygments_lexer": "ipython3",
   "version": "3.5.2"
  }
 },
 "nbformat": 4,
 "nbformat_minor": 1
}
